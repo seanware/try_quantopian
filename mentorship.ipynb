{
 "cells": [
  {
   "cell_type": "markdown",
   "metadata": {},
   "source": []
  },
  {
   "cell_type": "markdown",
   "metadata": {
    "collapsed": false
   },
   "source": [
    "##<img src=\"http://photos3.meetupstatic.com/photos/event/f/9/d/global_432903997.jpeg\" style=\"display:inline;width:100px\"></img> Mentorship Program\n",
    "\n"
   ]
  },
  {
   "cell_type": "markdown",
   "metadata": {},
   "source": [
    "#Description of the Quantopian API\n",
    "\n",
    "<img src=\"http://sparkcapital.com/wp-content/uploads/2013/01/Quantopian_S1.png\" style=\"display:inline;width:250px\"></img>\n",
    "\n",
    "\n",
    "- Quantopian provides a platform for you to build, test, and execute trading algorithms."
   ]
  },
  {
   "cell_type": "code",
   "execution_count": 1,
   "metadata": {
    "collapsed": false
   },
   "outputs": [],
   "source": [
    "import datetime\n",
    "import numpy as np\n",
    "import pandas as pd\n",
    "import zipline\n",
    "\n",
    "%matplotlib inline\n",
    "\n",
    "STOCKS = ['AMD', 'CERN', 'COST', 'DELL', 'GPS', 'INTC', 'MMM']"
   ]
  },
  {
   "cell_type": "markdown",
   "metadata": {},
   "source": [
    "## Example 1: Buy Apple Stock"
   ]
  },
  {
   "cell_type": "code",
   "execution_count": 2,
   "metadata": {
    "collapsed": true
   },
   "outputs": [],
   "source": [
    "class BUY_APPLE(zipline.TradingAlgorithm):\n",
    "    \"\"\"\n",
    "    Copy the sample trading algorithm from Quantopian and see if we can\n",
    "    run it in zipline (what needs to change to convert between their platform\n",
    "    th)\n",
    "    \"\"\"\n",
    "    def initialize(self):\n",
    "        pass\n",
    "    \n",
    "    def handle_data(self, data):\n",
    "        self.order(zipline.api.symbol('AAPL'), 10)\n",
    "        self.record(APPL=data[zipline.api.symbol('AAPL')].price)\n",
    "    "
   ]
  },
  {
   "cell_type": "code",
   "execution_count": 3,
   "metadata": {
    "collapsed": false
   },
   "outputs": [
    {
     "name": "stdout",
     "output_type": "stream",
     "text": [
      "AAPL\n",
      "AMD\n"
     ]
    }
   ],
   "source": [
    "start = datetime.datetime(2001, 8, 1)\n",
    "end = datetime.datetime(2013, 2, 1)\n",
    "data = zipline.utils.factory.load_from_yahoo(stocks=['AAPL', 'AMD'], indexes={}, start=start, end=end)"
   ]
  },
  {
   "cell_type": "code",
   "execution_count": 4,
   "metadata": {
    "collapsed": true
   },
   "outputs": [],
   "source": [
    "def run_buy_apple():\n",
    "    buy_apple = BUY_APPLE();\n",
    "    results = buy_apple.run(data)\n",
    "    return results.portfolio_value"
   ]
  },
  {
   "cell_type": "code",
   "execution_count": 5,
   "metadata": {
    "collapsed": false
   },
   "outputs": [
    {
     "name": "stderr",
     "output_type": "stream",
     "text": [
      "[2015-07-09 21:13:06.809000] INFO: Performance: Simulated 2893 trading days out of 2893.\n",
      "[2015-07-09 21:13:06.810000] INFO: Performance: first open: 2001-08-01 13:31:00+00:00\n",
      "[2015-07-09 21:13:06.811000] INFO: Performance: last close: 2013-02-01 21:00:00+00:00\n"
     ]
    }
   ],
   "source": [
    "results_buy_apple = run_buy_apple()"
   ]
  },
  {
   "cell_type": "code",
   "execution_count": 6,
   "metadata": {
    "collapsed": false
   },
   "outputs": [
    {
     "data": {
      "text/plain": [
       "2013-01-28 21:00:00    1246567.217167\n",
       "2013-01-29 21:00:00    1279565.834323\n",
       "2013-01-30 21:00:00    1273933.509309\n",
       "2013-01-31 21:00:00    1268690.367442\n",
       "2013-02-01 21:00:00    1261371.061151\n",
       "Name: portfolio_value, dtype: float64"
      ]
     },
     "execution_count": 6,
     "metadata": {},
     "output_type": "execute_result"
    }
   ],
   "source": [
    "results_buy_apple.tail()"
   ]
  },
  {
   "cell_type": "code",
   "execution_count": 7,
   "metadata": {
    "collapsed": false
   },
   "outputs": [
    {
     "data": {
      "text/plain": [
       "2001-08-01 20:00:00    100000.000000\n",
       "2001-08-02 20:00:00     99999.699867\n",
       "2001-08-03 20:00:00     99999.185096\n",
       "2001-08-06 20:00:00     99998.388448\n",
       "2001-08-07 20:00:00     99998.329819\n",
       "Name: portfolio_value, dtype: float64"
      ]
     },
     "execution_count": 7,
     "metadata": {},
     "output_type": "execute_result"
    }
   ],
   "source": [
    "results_buy_apple.head()"
   ]
  },
  {
   "cell_type": "code",
   "execution_count": 8,
   "metadata": {
    "collapsed": false
   },
   "outputs": [
    {
     "data": {
      "text/plain": [
       "<matplotlib.axes.AxesSubplot at 0x119afdd8>"
      ]
     },
     "execution_count": 8,
     "metadata": {},
     "output_type": "execute_result"
    },
    {
     "data": {
      "image/png": "[encoded data removed]",
      "text/plain": [
       "<matplotlib.figure.Figure at 0x119af4e0>"
      ]
     },
     "metadata": {},
     "output_type": "display_data"
    }
   ],
   "source": [
    "results_buy_apple.plot()"
   ]
  },
  {
   "cell_type": "code",
   "execution_count": 9,
   "metadata": {
    "collapsed": false
   },
   "outputs": [],
   "source": [
    "from collections import deque as moving_window\n",
    "\n",
    "\n",
    "class DualMovingAverage(zipline.TradingAlgorithm):\n",
    "    \"\"\" Implements the Dual Moving average \"\"\"\n",
    "    \n",
    "    def initialize(self, short_window=100, long_window=300):\n",
    "        self.short_window = moving_window(maxlen=short_window)\n",
    "        self.long_window = moving_window(maxlen=long_window)\n",
    "        \n",
    "        \n",
    "    def handle_data(self, data):\n",
    "        self.short_window.append(data[zipline.api.symbol('AAPL')].price)\n",
    "        self.long_window.append(data[zipline.api.symbol('AAPL')].price)\n",
    "        \n",
    "        short_mavg = np.mean(self.short_window)\n",
    "        long_mavg = np.mean(self.long_window)\n",
    "        \n",
    "        #Trading logic\n",
    "        if short_mavg > long_mavg:\n",
    "            self.order_target(zipline.api.symbol('AAPL'), 100)\n",
    "        elif short_mavg < long_mavg:\n",
    "            self.order_target(zipline.api.symbol('AAPL'), 0)\n",
    "        \n",
    "        self.record(APPL=data[zipline.api.symbol('AAPL')].price,\n",
    "                   short_mavg=short_mavg,\n",
    "                   long_mavg=long_mavg)\n",
    "    \n",
    "                  "
   ]
  },
  {
   "cell_type": "code",
   "execution_count": 10,
   "metadata": {
    "collapsed": true
   },
   "outputs": [],
   "source": [
    "def run_dual_moving_ave():\n",
    "    moving_ave = DualMovingAverage();\n",
    "    results = moving_ave.run(data)\n",
    "    return results.portfolio_value"
   ]
  },
  {
   "cell_type": "code",
   "execution_count": 11,
   "metadata": {
    "collapsed": false
   },
   "outputs": [
    {
     "name": "stderr",
     "output_type": "stream",
     "text": [
      "[2015-07-09 21:17:29.186000] INFO: Performance: Simulated 2893 trading days out of 2893.\n",
      "[2015-07-09 21:17:29.187000] INFO: Performance: first open: 2001-08-01 13:31:00+00:00\n",
      "[2015-07-09 21:17:29.187000] INFO: Performance: last close: 2013-02-01 21:00:00+00:00\n"
     ]
    }
   ],
   "source": [
    "results_DMA = run_dual_moving_ave()"
   ]
  },
  {
   "cell_type": "code",
   "execution_count": 14,
   "metadata": {
    "collapsed": false
   },
   "outputs": [
    {
     "data": {
      "text/plain": [
       "<matplotlib.axes.AxesSubplot at 0xfd19b38>"
      ]
     },
     "execution_count": 14,
     "metadata": {},
     "output_type": "execute_result"
    },
    {
     "data": {
      "image/png": "[encoded data removed]",
      "text/plain": [
       "<matplotlib.figure.Figure at 0x10ab8320>"
      ]
     },
     "metadata": {},
     "output_type": "display_data"
    }
   ],
   "source": [
    "results_DMA.plot()"
   ]
  },
  {
   "cell_type": "markdown",
   "metadata": {},
   "source": [
    "#Machine Learning\n",
    "[Scikit Learn] [sklearn]'s home page divides up the space of machine learning well,\n",
    "but the [Mahout algorithms list] [mahout-algo] has a more comprehensive list of algorithms.\n",
    "From both:\n",
    "- **Collaborative filtering**<br/>\n",
    "  'because you bought **these**, we recommend **this**'\n",
    "- **Classification**<br/>\n",
    "  'people with these characteristics, if sent a mailer, will buy something 30% of the time'\n",
    "- **Clustering**<br/>\n",
    "  'our customers naturally fall into these groups: urban singles, guys with dogs, women 25-35 who like rap'\n",
    "- **Dimension reduction**<br/>\n",
    "  'a preprocessing step before regression that can also identify the most significant contributors to variation'\n",
    "- **Topics**<br/>\n",
    "  'the posts in this user group are related to either local politics, music, or sports'\n",
    "\n",
    "\n",
    "\n",
    "The S&P 500 dataset is great for us to quickly explore regression, clustering, and principal component analysis.\n",
    "\n",
    "\n",
    "[sklearn]: http://scikit-learn.org/stable/\n",
    "[mahout-algo]: https://mahout.apache.org/users/basics/algorithms.html\n",
    "[zipline]: http://twiecki.github.io/zipline_in_the_cloud_talk/"
   ]
  },
  {
   "cell_type": "markdown",
   "metadata": {},
   "source": [
    "### Example: K-means Clustering\n",
    "Goal is to cluster Chicago-area Fortune 500 stocks by similar day-to-day returns in 2012.\n",
    "Steps:\n",
    "\n",
    "1. Get and transform the data (one row per company, one column per day in the year)\n",
    "2. Iteratively try different 'K' values for k-means and pick one\n",
    "3. See what the clusters say about which stocks are similar (expect similarity within industrial group)"
   ]
  },
  {
   "cell_type": "code",
   "execution_count": 13,
   "metadata": {
    "collapsed": true
   },
   "outputs": [],
   "source": [
    "# This is a module we wrote using pg8000 to access our Postgres database on Heroku\n",
    "from database import Database\n",
    "db = Database()"
   ]
  },
  {
   "cell_type": "code",
   "execution_count": 14,
   "metadata": {
    "collapsed": false
   },
   "outputs": [],
   "source": [
    "#list of Chicago's fortune 500 companies' ticker symbols\n",
    "chicago_companies_lookup = dict(\n",
    "    ABT = \"Abbot\",\n",
    "    ADM = \"Archer-Daniels Midland\",\n",
    "    ALL = \"Allstate\",\n",
    "    BA = \"Boeing\",\n",
    "    CF = \"CF Industries (Fertilizer)\",\n",
    "    DFS = \"Discover\",\n",
    "    DOV = \"Dover Corporation (industrial products)\",\n",
    "    EXC = \"Exelon\",\n",
    "    GWW = \"Grainger\",\n",
    "    ITW = \"Illinois Tool Works\",\n",
    "    MCD = \"McDonalds\",\n",
    "    MDLZ = \"Mondelez\",\n",
    "    MSI = \"Motorola\",\n",
    "    NI = \"Nicor\",\n",
    "    TEG = \"Integrys (energy)\")\n",
    "\n",
    "chicago_companies = chicago_companies_lookup.keys()\n",
    "\n",
    "returns = db.select( ('SELECT dt, \"{}\" FROM return '\n",
    "                      'WHERE dt BETWEEN \\'2012-01-01\\' AND \\'2012-12-31\\''\n",
    "                      'ORDER BY dt;').format(\n",
    "                             '\", \"'.join((c.lower() for c in chicago_companies))),\n",
    "                            columns=[\"Date\"] + chicago_companies)\n",
    "\n",
    "sp_dates = [row.pop(\"Date\") for row in returns]\n",
    "returns = pd.DataFrame(returns, index=sp_dates)"
   ]
  },
  {
   "cell_type": "code",
   "execution_count": 15,
   "metadata": {
    "collapsed": true
   },
   "outputs": [],
   "source": [
    "#cluster to determine if sectors move similarly in the marketplace\n",
    "from scipy.cluster.vq import  whiten\n",
    "from sklearn.cluster import KMeans\n",
    "\n",
    "import matplotlib.pyplot as plt\n",
    "%matplotlib inline"
   ]
  },
  {
   "cell_type": "code",
   "execution_count": 16,
   "metadata": {
    "collapsed": false
   },
   "outputs": [
    {
     "data": {
      "text/plain": [
       "<matplotlib.text.Text at 0x7f447e85ecd0>"
      ]
     },
     "execution_count": 16,
     "metadata": {},
     "output_type": "execute_result"
    },
    {
     "data": {
      "image/png": "[encoded data removed]",
      "text/plain": [
       "<matplotlib.figure.Figure at 0x7f447ef80b50>"
      ]
     },
     "metadata": {},
     "output_type": "display_data"
    }
   ],
   "source": [
    "normalize =  whiten(returns.transpose().dropna())\n",
    "steps = range(2,10)\n",
    "inertias = [KMeans(i).fit(normalize).inertia_ for i in steps]\n",
    "\n",
    "plt.plot(steps, inertias, 'go-')\n",
    "plt.title(\"Pick 5 clusters (but the dropoff looks linear)\")"
   ]
  },
  {
   "cell_type": "code",
   "execution_count": 17,
   "metadata": {
    "collapsed": false
   },
   "outputs": [
    {
     "name": "stdout",
     "output_type": "stream",
     "text": [
      "1 companies: Grainger\n",
      "8 companies: Nicor\tAllstate\tExcelon\tMcDonalds\tIntegrys (energy)\tMondelez\tAbbot\tArcher-Daniels Midland\n",
      "1 companies: Discover\n",
      "4 companies: Illinois Tool Works\tDover Corporation (industrial products)\tBoeing\tMotorola\n",
      "1 companies: CF Industries (Fertilizer)\n"
     ]
    }
   ],
   "source": [
    "nclust = 5\n",
    "km = KMeans(n_clusters = nclust)\n",
    "km.fit(normalize)\n",
    "\n",
    "clustered_companies = [set() for i in range(nclust)]\n",
    "for i in range(len(normalize.index)):\n",
    "    company = normalize.index[i]\n",
    "    cluster_id = km.labels_[i]\n",
    "    clustered_companies[cluster_id].add(company)\n",
    "\n",
    "print \"Here are the clusters....\"\n",
    "for c in clustered_companies:\n",
    "    print len(c), \"  companies:\\n    \", \", \".join(chicago_companies_lookup[co] for co in c)"
   ]
  },
  {
   "cell_type": "code",
   "execution_count": 18,
   "metadata": {
    "collapsed": false
   },
   "outputs": [
    {
     "data": {
      "image/png": "[encoded data removed]",
      "text/plain": [
       "<matplotlib.figure.Figure at 0x7f449b53b710>"
      ]
     },
     "metadata": {},
     "output_type": "display_data"
    }
   ],
   "source": [
    "import scipy.spatial.distance as dist\n",
    "import scipy.cluster.hierarchy as hclust\n",
    "\n",
    "chicago_dist = dist.pdist(normalize, 'euclidean')\n",
    "links = hclust.linkage(chicago_dist)\n",
    "\n",
    "plt.figure(figsize=(3,4))\n",
    "den = hclust.dendrogram(\n",
    "    links,\n",
    "    labels=[chicago_companies_lookup[co] for co in normalize.index],\n",
    "    orientation=\"left\")\n",
    "\n",
    "\n",
    "plt.ylabel('Samples', fontsize=9)\n",
    "plt.xlabel('Distance')\n",
    "plt.suptitle('Stocks clustered by similarity', fontweight='bold', fontsize=14);"
   ]
  },
  {
   "cell_type": "markdown",
   "metadata": {},
   "source": [
    "#Flask Blog Built On-top of Heroku\n",
    "\n",
    "\n",
    "##MongoDB\n",
    "We copied the [Flask tutorial][flask_tutorial] instructions but replaced\n",
    "the database with a MongoDB database, using the Flask PyMongo extension\n",
    "\n",
    "```python\n",
    "# It's really this easy!\n",
    "from flask.ext.pymongo import PyMongo\n",
    "\n",
    "app.config['MONGO_URI'] = os.environ['MONGO_URI']\n",
    "app.config['PASSWORD'] = urlparse.urlparse(app.config['MONGO_URI']).password\n",
    "app.config['USERNAME'] = urlparse.urlparse(app.config['MONGO_URI']).username\n",
    "\n",
    "mongo = PyMongo(app)\n",
    "\n",
    "@app.route(\"/\")\n",
    "def show_entries():\n",
    "    \"\"\"Show all of the blog entries.\"\"\"\n",
    "    entries = mongo.db.entries.find(sort=[('$natural', -1)])\n",
    "    return render_template('show_entries.html', entries=entries)\n",
    "```\n",
    "\n",
    "###This is about 20 fewer lines of code (and 4 fewer steps) than using sqlite\n",
    "\n",
    "<img src=\"data/flask_tutorial.png\", style=\"width:500px\"></img>\n",
    "\n",
    "##Plot.ly Graphs\n",
    "-Get code from my github page\n",
    "\n",
    "[flask_tutorial]: http://flask.pocoo.org/docs/0.10/tutorial/"
   ]
  },
  {
   "cell_type": "markdown",
   "metadata": {},
   "source": []
  },
  {
   "cell_type": "code",
   "execution_count": null,
   "metadata": {
    "collapsed": true
   },
   "outputs": [],
   "source": []
  }
 ],
 "metadata": {
  "kernelspec": {
   "display_name": "Python 2",
   "language": "python",
   "name": "python2"
  },
  "language_info": {
   "codemirror_mode": {
    "name": "ipython",
    "version": 2
   },
   "file_extension": ".py",
   "mimetype": "text/x-python",
   "name": "python",
   "nbconvert_exporter": "python",
   "pygments_lexer": "ipython2",
   "version": "2.7.5"
  },
  "name": "mentorship.ipynb"
 },
 "nbformat": 4,
 "nbformat_minor": 0
}
